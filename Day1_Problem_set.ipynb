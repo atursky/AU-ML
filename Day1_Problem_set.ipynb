{
  "cells": [
    {
      "cell_type": "markdown",
      "metadata": {
        "id": "IeFa2Xc2VuZo"
      },
      "source": [
        "Question 1: Are the rules for naming variables followed\n",
        "\n",
        "price\n",
        "\n",
        "1price\n",
        "\n",
        "_price\n",
        "\n",
        "Price\n",
        "\n",
        "\n"
      ]
    },
    {
      "cell_type": "markdown",
      "metadata": {},
      "source": [
        "Answer 1:\n",
        "\n",
        "Cannot be a `protected` word or start with a `number`"
      ]
    },
    {
      "cell_type": "code",
      "execution_count": 1,
      "metadata": {},
      "outputs": [
        {
          "name": "stdout",
          "output_type": "stream",
          "text": [
            "10\n",
            "30\n",
            "40\n"
          ]
        }
      ],
      "source": [
        "# Variable naming examples\n",
        "price = 10\n",
        "# 1price = 20  # Invalid variable name, cannot start with a number\n",
        "_price = 30\n",
        "Price = 40\n",
        "\n",
        "print(price)\n",
        "print(_price)\n",
        "print(Price)"
      ]
    },
    {
      "cell_type": "markdown",
      "metadata": {
        "id": "-N3BZvATXeHU"
      },
      "source": [
        "Question 2: Are the rules for naming variables followed\n",
        "\n",
        "_age\n",
        "\n",
        "age_\n",
        "\n",
        "age_*\n",
        "\n",
        "+age\n",
        "\n"
      ]
    },
    {
      "cell_type": "markdown",
      "metadata": {},
      "source": [
        "`+age` does not follow the rules as it starts with a plus sign, which is not allowed in variable names."
      ]
    },
    {
      "cell_type": "markdown",
      "metadata": {
        "id": "4Xln_dUVYQdh"
      },
      "source": [
        "Question 3 : variable and Variable are different?\n",
        "\n",
        "variable = 3\n",
        "\n",
        "Variable = 4"
      ]
    },
    {
      "cell_type": "code",
      "execution_count": 6,
      "metadata": {},
      "outputs": [
        {
          "name": "stdout",
          "output_type": "stream",
          "text": [
            "3\n",
            "4\n",
            "False\n"
          ]
        }
      ],
      "source": [
        "variable = 3\n",
        "Variable = 4\n",
        "\n",
        "print(variable)\n",
        "print(Variable)\n",
        "print(f\"{variable == Variable}\")"
      ]
    },
    {
      "cell_type": "markdown",
      "metadata": {
        "id": "k0Ibq4RBZPZ-"
      },
      "source": [
        "Question 4: Student 1 tells to student 2 that arithmetic operators can be used in python while student 2 disagrees. Can you help student 1  \n",
        " with a python code to add 4 string variables in python."
      ]
    },
    {
      "cell_type": "code",
      "execution_count": null,
      "metadata": {},
      "outputs": [],
      "source": [
        "var1 = \"Hello\"\n",
        "var2 = \" \"\n",
        "var3 = \"world\"\n",
        "var4 = \"!\"\n",
        "\n",
        "result = var1 + var2 + var3 + var4\n",
        "print(result)"
      ]
    },
    {
      "cell_type": "markdown",
      "metadata": {
        "id": "680yZaGQcKQJ"
      },
      "source": [
        "Question 5: Can you help Jack run the below code\n",
        "\n",
        "variable1 = 3\n",
        "\n",
        "\n",
        "9variable2 = 5\n",
        "\n",
        "  \n",
        "variable3 = variable1 + variable2\n",
        "  \n",
        "\n",
        "print(variable3)\n",
        "\n"
      ]
    },
    {
      "cell_type": "code",
      "execution_count": 7,
      "metadata": {},
      "outputs": [
        {
          "name": "stdout",
          "output_type": "stream",
          "text": [
            "8\n"
          ]
        }
      ],
      "source": [
        "variable1 = 3\n",
        "variable2 = 5\n",
        "variable3 = variable1 + variable2\n",
        "print(variable3)"
      ]
    },
    {
      "cell_type": "markdown",
      "metadata": {
        "id": "R5Vv6h79dE6B"
      },
      "source": [
        " Question 6: Student 1 is not able run below code to assign a value to a. Please help him.\n",
        "\n",
        " print(\"Add and Assign:\",a += b)"
      ]
    },
    {
      "cell_type": "code",
      "execution_count": 41,
      "metadata": {},
      "outputs": [
        {
          "name": "stdout",
          "output_type": "stream",
          "text": [
            "Add and Assign: 5\n"
          ]
        }
      ],
      "source": [
        "a = 0\n",
        "b = 5\n",
        "a += b\n",
        "print(f\"Add and Assign: {a}\")"
      ]
    },
    {
      "cell_type": "markdown",
      "metadata": {
        "id": "urD7x-ZndsYR"
      },
      "source": [
        "Question 7: Sam has 100 oranges in his garden while Jack has 100 apples. If 1 orange is 10 euros and 1 apple is 20 euros. Can you write a python code to help Sam and Jack understand the value of 100 oranges and apples each.  "
      ]
    },
    {
      "cell_type": "code",
      "execution_count": 39,
      "metadata": {},
      "outputs": [
        {
          "name": "stdout",
          "output_type": "stream",
          "text": [
            "Sam's oranges value: 1000 euros\n",
            "Jack's apples value: 2000 euros\n"
          ]
        }
      ],
      "source": [
        "# Define the prices per fruit\n",
        "orange_price = 10\n",
        "apple_price = 20\n",
        "\n",
        "# Calculate the total value for Sam and Jack\n",
        "sam_value = 100 * orange_price\n",
        "jack_value = 100 * apple_price\n",
        "\n",
        "# Print the values\n",
        "print(f\"Sam's oranges value: {sam_value} euros\")\n",
        "print(f\"Jack's apples value: {jack_value} euros\")"
      ]
    },
    {
      "cell_type": "markdown",
      "metadata": {
        "id": "gpHF3qGGfjNR"
      },
      "source": [
        "Question 8: Write a python code to generate the below output\n",
        "\n",
        "0\n",
        "\n",
        "5\n",
        "\n",
        "10\n",
        "\n",
        "15\n",
        "\n",
        "20\n",
        "\n",
        "25\n",
        "\n",
        "30\n",
        "\n",
        "35\n",
        "\n",
        "40"
      ]
    },
    {
      "cell_type": "code",
      "execution_count": 8,
      "metadata": {},
      "outputs": [
        {
          "name": "stdout",
          "output_type": "stream",
          "text": [
            "0\n",
            "5\n",
            "10\n",
            "15\n",
            "20\n",
            "25\n",
            "30\n",
            "35\n",
            "40\n"
          ]
        }
      ],
      "source": [
        "for i in range(9):\n",
        "    print(i * 5)"
      ]
    },
    {
      "cell_type": "markdown",
      "metadata": {
        "id": "EY0PT8dbiTGy"
      },
      "source": [
        "Question 9: Complete the code below to get the output mentioned\n",
        "\n",
        "for x in range(9):\n",
        "print(5+7*)\n",
        "\n",
        "5\n",
        "\n",
        "12\n",
        "\n",
        "19\n",
        "\n",
        "26\n",
        "\n",
        "33\n",
        "\n",
        "40\n",
        "\n",
        "47\n",
        "\n",
        "54\n",
        "\n",
        "61\n",
        "\n",
        "\n"
      ]
    },
    {
      "cell_type": "code",
      "execution_count": 9,
      "metadata": {},
      "outputs": [
        {
          "name": "stdout",
          "output_type": "stream",
          "text": [
            "5\n",
            "12\n",
            "19\n",
            "26\n",
            "33\n",
            "40\n",
            "47\n",
            "54\n",
            "61\n"
          ]
        }
      ],
      "source": [
        "for x in range(9):\n",
        "    print(5 + 7 * x)"
      ]
    },
    {
      "cell_type": "markdown",
      "metadata": {
        "id": "yh3Ohy7bKqDy"
      },
      "source": [
        "Question 10: Create a list of fruits with 9 elements and print it"
      ]
    },
    {
      "cell_type": "code",
      "execution_count": 31,
      "metadata": {},
      "outputs": [
        {
          "name": "stdout",
          "output_type": "stream",
          "text": [
            "['apple', 'banana', 'cherry', 'date', 'elderberry', 'fig', 'grape', 'honeydew', 'kiwi']\n"
          ]
        }
      ],
      "source": [
        "fruits = ['apple', 'banana', 'cherry', 'date', 'elderberry', 'fig', 'grape', 'honeydew', 'kiwi']\n",
        "print(fruits)"
      ]
    },
    {
      "cell_type": "markdown",
      "metadata": {
        "id": "-R-U09iPLsFT"
      },
      "source": [
        "Question 11 :  Slice from 1st element to the 4th. Print only the first 4 elements in the above list."
      ]
    },
    {
      "cell_type": "code",
      "execution_count": 32,
      "metadata": {},
      "outputs": [
        {
          "name": "stdout",
          "output_type": "stream",
          "text": [
            "['apple', 'banana', 'cherry', 'date']\n"
          ]
        }
      ],
      "source": [
        "sliced_fruits = fruits[:4]\n",
        "print(sliced_fruits)"
      ]
    },
    {
      "cell_type": "markdown",
      "metadata": {
        "id": "IbKG1zXzMWTA"
      },
      "source": [
        "Question 12 : Create a list named 'list_nums' of numbers  (3,4,7,23,1,4,23,90,0,5)"
      ]
    },
    {
      "cell_type": "code",
      "execution_count": 10,
      "metadata": {},
      "outputs": [],
      "source": [
        "list_nums = [3, 4, 7, 23, 1, 4, 23, 90, 0, 5]"
      ]
    },
    {
      "cell_type": "markdown",
      "metadata": {
        "id": "WA_-1-4aNJyh"
      },
      "source": [
        "Question 14 : Iterate through each element in the above list using a for loop and add one to each element in the list and print the list"
      ]
    },
    {
      "cell_type": "code",
      "execution_count": 11,
      "metadata": {},
      "outputs": [
        {
          "name": "stdout",
          "output_type": "stream",
          "text": [
            "[4, 5, 8, 24, 2, 5, 24, 91, 1, 6]\n"
          ]
        }
      ],
      "source": [
        "for i in range(len(list_nums)):\n",
        "    list_nums[i] += 1\n",
        "\n",
        "print(list_nums)"
      ]
    },
    {
      "cell_type": "markdown",
      "metadata": {
        "id": "4H_jl0kRN4A4"
      },
      "source": [
        "Question 15: Create an empty list named motorcycles"
      ]
    },
    {
      "cell_type": "code",
      "execution_count": 12,
      "metadata": {},
      "outputs": [],
      "source": [
        "motorcycles = []"
      ]
    },
    {
      "cell_type": "markdown",
      "metadata": {
        "id": "uqqL8i0NOCfg"
      },
      "source": [
        "Question 16: Add elements to the empty list created above,atleast 3 motorcycles"
      ]
    },
    {
      "cell_type": "code",
      "execution_count": 13,
      "metadata": {},
      "outputs": [],
      "source": [
        "motorcycles.append(\"Honda\")\n",
        "motorcycles.append(\"Yamaha\")\n",
        "motorcycles.append(\"Suzuki\")"
      ]
    },
    {
      "cell_type": "markdown",
      "metadata": {
        "id": "jOK60vLaPKX8"
      },
      "source": [
        "Question 17: Remove two motorcycles from the list above by value"
      ]
    },
    {
      "cell_type": "code",
      "execution_count": 14,
      "metadata": {},
      "outputs": [],
      "source": [
        "motorcycles.remove(\"Honda\")\n",
        "motorcycles.remove(\"Yamaha\")"
      ]
    },
    {
      "cell_type": "markdown",
      "metadata": {
        "id": "q0RY_sF6PnKU"
      },
      "source": [
        "Question 18: Create a dictionary for four countries. With the country as the key and their capital as the value and print the dictionary"
      ]
    },
    {
      "cell_type": "code",
      "execution_count": 35,
      "metadata": {
        "vscode": {
          "languageId": "javascript"
        }
      },
      "outputs": [
        {
          "name": "stdout",
          "output_type": "stream",
          "text": [
            "{'USA': 'Washington D.C.', 'France': 'Paris', 'India': 'New Delhi', 'Australia': 'Canberra'}\n"
          ]
        }
      ],
      "source": [
        "countries = {\n",
        "    'USA': 'Washington D.C.',\n",
        "    'France': 'Paris',\n",
        "    'India': 'New Delhi',\n",
        "    'Australia': 'Canberra'\n",
        "}\n",
        "\n",
        "print(countries)"
      ]
    },
    {
      "cell_type": "markdown",
      "metadata": {
        "id": "yzm_xXKRQgDk"
      },
      "source": [
        "Question 19 : Print the length of the above created dictionary"
      ]
    },
    {
      "cell_type": "code",
      "execution_count": 36,
      "metadata": {
        "vscode": {
          "languageId": "javascript"
        }
      },
      "outputs": [
        {
          "data": {
            "text/plain": [
              "4"
            ]
          },
          "execution_count": 36,
          "metadata": {},
          "output_type": "execute_result"
        }
      ],
      "source": [
        "len(countries)"
      ]
    },
    {
      "cell_type": "markdown",
      "metadata": {
        "id": "44gEekGWQqMH"
      },
      "source": [
        "*Question* 20 : Remove a country and its capital (key-value pair) from the dictionary created and print the dictionay minus that value"
      ]
    },
    {
      "cell_type": "code",
      "execution_count": 37,
      "metadata": {
        "vscode": {
          "languageId": "javascript"
        }
      },
      "outputs": [
        {
          "name": "stdout",
          "output_type": "stream",
          "text": [
            "{'USA': 'Washington D.C.', 'India': 'New Delhi', 'Australia': 'Canberra'}\n"
          ]
        }
      ],
      "source": [
        "del countries['France']\n",
        "print(countries)"
      ]
    },
    {
      "cell_type": "markdown",
      "metadata": {
        "id": "E5j6cZ_VRLpL"
      },
      "source": [
        "Question 21 : Create an empty dictionary"
      ]
    },
    {
      "cell_type": "code",
      "execution_count": 38,
      "metadata": {},
      "outputs": [],
      "source": [
        "capitals = {}"
      ]
    },
    {
      "cell_type": "markdown",
      "metadata": {
        "id": "vT61Qp6oRSy-"
      },
      "source": [
        "Question 22: Add the two key-vale pair mentioned below into the above created empty dictionary and print the dictionary\n",
        "1. 'Denmark' - 'Copenhagen'\n",
        "2. 'Finland' - 'Helsinki"
      ]
    },
    {
      "cell_type": "code",
      "execution_count": 22,
      "metadata": {
        "vscode": {
          "languageId": "javascript"
        }
      },
      "outputs": [
        {
          "name": "stdout",
          "output_type": "stream",
          "text": [
            "{'Denmark': 'Copenhagen', 'Finland': 'Helsinki'}\n"
          ]
        }
      ],
      "source": [
        "capitals.update({'Denmark': 'Copenhagen', 'Finland': 'Helsinki'})\n",
        "print(capitals)"
      ]
    },
    {
      "cell_type": "markdown",
      "metadata": {
        "id": "fnR4UuMoRvgT"
      },
      "source": [
        "Question 23 : Modify the value of Finland from Helsinki to Rome and print the dictionary"
      ]
    },
    {
      "cell_type": "code",
      "execution_count": 25,
      "metadata": {
        "vscode": {
          "languageId": "javascript"
        }
      },
      "outputs": [
        {
          "name": "stdout",
          "output_type": "stream",
          "text": [
            "{'Denmark': 'Copenhagen', 'Finland': 'Rome'}\n"
          ]
        }
      ],
      "source": [
        "capitals[\"Finland\"] = \"Rome\"\n",
        "print(capitals)"
      ]
    },
    {
      "cell_type": "markdown",
      "metadata": {
        "id": "82pbm4VPSRJf"
      },
      "source": [
        "Question 24 : Create a dictionary to store username and password"
      ]
    },
    {
      "cell_type": "code",
      "execution_count": 27,
      "metadata": {
        "vscode": {
          "languageId": "javascript"
        }
      },
      "outputs": [],
      "source": [
        "credentials = {\n",
        "    'user1': 'hunter2',\n",
        "    'user2': 'password2',\n",
        "    'user3': 'password3'\n",
        "}"
      ]
    },
    {
      "cell_type": "markdown",
      "metadata": {
        "id": "E46rGGKfSkJv"
      },
      "source": [
        "Question 25 : Create a Tuple wiht values 1,10 and 30"
      ]
    },
    {
      "cell_type": "code",
      "execution_count": 29,
      "metadata": {
        "vscode": {
          "languageId": "javascript"
        }
      },
      "outputs": [],
      "source": [
        "my_tuple = (1, 10, 30)"
      ]
    },
    {
      "cell_type": "markdown",
      "metadata": {
        "id": "o9DY-rDMSvPC"
      },
      "source": [
        "Question 26 : Print the first value in the above created tuple"
      ]
    },
    {
      "cell_type": "code",
      "execution_count": 30,
      "metadata": {
        "vscode": {
          "languageId": "javascript"
        }
      },
      "outputs": [
        {
          "name": "stdout",
          "output_type": "stream",
          "text": [
            "1\n"
          ]
        }
      ],
      "source": [
        "print(my_tuple[0]);"
      ]
    },
    {
      "cell_type": "markdown",
      "metadata": {
        "id": "yAAWUXOMS9D7"
      },
      "source": [
        "Question 27 : Will this work 'my_tuple[1] = 3' to the above tuple? Give reason"
      ]
    },
    {
      "cell_type": "markdown",
      "metadata": {},
      "source": [
        "Nope...\n",
        "\n",
        "Touples are immutable"
      ]
    }
  ],
  "metadata": {
    "colab": {
      "provenance": [],
      "toc_visible": true
    },
    "kernelspec": {
      "display_name": "Python 3",
      "name": "python3"
    },
    "language_info": {
      "codemirror_mode": {
        "name": "ipython",
        "version": 3
      },
      "file_extension": ".py",
      "mimetype": "text/x-python",
      "name": "python",
      "nbconvert_exporter": "python",
      "pygments_lexer": "ipython3",
      "version": "3.10.11"
    }
  },
  "nbformat": 4,
  "nbformat_minor": 0
}
