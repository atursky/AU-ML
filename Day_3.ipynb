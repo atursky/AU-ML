{
 "cells": [
  {
   "cell_type": "code",
   "execution_count": 3,
   "metadata": {},
   "outputs": [],
   "source": [
    "import pandas as pd\n",
    "import numpy as np"
   ]
  },
  {
   "cell_type": "code",
   "execution_count": 10,
   "metadata": {},
   "outputs": [
    {
     "name": "stdout",
     "output_type": "stream",
     "text": [
      "Array 1: [0.68638506 0.4821759  0.4704207 ]\n",
      "Array 2: [0.69099915 0.47470605 0.52781891]\n"
     ]
    }
   ],
   "source": [
    "import numpy as np\n",
    "\n",
    "array1 = np.random.rand(3)\n",
    "array2 = np.random.rand(3)\n",
    "\n",
    "print(\"Array 1:\", array1)\n",
    "print(\"Array 2:\", array2)"
   ]
  },
  {
   "cell_type": "code",
   "execution_count": 22,
   "metadata": {},
   "outputs": [
    {
     "data": {
      "text/html": [
       "<div>\n",
       "<style scoped>\n",
       "    .dataframe tbody tr th:only-of-type {\n",
       "        vertical-align: middle;\n",
       "    }\n",
       "\n",
       "    .dataframe tbody tr th {\n",
       "        vertical-align: top;\n",
       "    }\n",
       "\n",
       "    .dataframe thead th {\n",
       "        text-align: right;\n",
       "    }\n",
       "</style>\n",
       "<table border=\"1\" class=\"dataframe\">\n",
       "  <thead>\n",
       "    <tr style=\"text-align: right;\">\n",
       "      <th></th>\n",
       "      <th>array1</th>\n",
       "      <th>array2</th>\n",
       "    </tr>\n",
       "  </thead>\n",
       "  <tbody>\n",
       "    <tr>\n",
       "      <th>0</th>\n",
       "      <td>0.686385</td>\n",
       "      <td>0.690999</td>\n",
       "    </tr>\n",
       "    <tr>\n",
       "      <th>1</th>\n",
       "      <td>0.482176</td>\n",
       "      <td>0.474706</td>\n",
       "    </tr>\n",
       "    <tr>\n",
       "      <th>2</th>\n",
       "      <td>0.470421</td>\n",
       "      <td>0.527819</td>\n",
       "    </tr>\n",
       "  </tbody>\n",
       "</table>\n",
       "</div>"
      ],
      "text/plain": [
       "     array1    array2\n",
       "0  0.686385  0.690999\n",
       "1  0.482176  0.474706\n",
       "2  0.470421  0.527819"
      ]
     },
     "execution_count": 22,
     "metadata": {},
     "output_type": "execute_result"
    }
   ],
   "source": [
    "pd_df = pd.DataFrame({'array1': array1, 'array2': array2})\n",
    "pd_df"
   ]
  },
  {
   "cell_type": "code",
   "execution_count": 6,
   "metadata": {
    "vscode": {
     "languageId": "javascript"
    }
   },
   "outputs": [],
   "source": [
    "import polars as pl"
   ]
  },
  {
   "cell_type": "code",
   "execution_count": 19,
   "metadata": {
    "vscode": {
     "languageId": "javascript"
    }
   },
   "outputs": [
    {
     "data": {
      "text/html": [
       "<div><style>\n",
       ".dataframe > thead > tr,\n",
       ".dataframe > tbody > tr {\n",
       "  text-align: right;\n",
       "  white-space: pre-wrap;\n",
       "}\n",
       "</style>\n",
       "<small>shape: (3, 2)</small><table border=\"1\" class=\"dataframe\"><thead><tr><th>array1</th><th>array2</th></tr><tr><td>f64</td><td>f64</td></tr></thead><tbody><tr><td>0.686385</td><td>0.690999</td></tr><tr><td>0.482176</td><td>0.474706</td></tr><tr><td>0.470421</td><td>0.527819</td></tr></tbody></table></div>"
      ],
      "text/plain": [
       "shape: (3, 2)\n",
       "┌──────────┬──────────┐\n",
       "│ array1   ┆ array2   │\n",
       "│ ---      ┆ ---      │\n",
       "│ f64      ┆ f64      │\n",
       "╞══════════╪══════════╡\n",
       "│ 0.686385 ┆ 0.690999 │\n",
       "│ 0.482176 ┆ 0.474706 │\n",
       "│ 0.470421 ┆ 0.527819 │\n",
       "└──────────┴──────────┘"
      ]
     },
     "execution_count": 19,
     "metadata": {},
     "output_type": "execute_result"
    }
   ],
   "source": [
    "# Create a Polars DataFrame from array1\n",
    "pl_df = pl.DataFrame({\n",
    "    'array1': pl.Series(array1),\n",
    "    'array2': pl.Series(array2)\n",
    "})\n",
    "\n",
    "pl_df"
   ]
  },
  {
   "cell_type": "code",
   "execution_count": 20,
   "metadata": {},
   "outputs": [
    {
     "name": "stdout",
     "output_type": "stream",
     "text": [
      "Error: Division by zero occurred.\n"
     ]
    }
   ],
   "source": [
    "try:\n",
    "    result = 10 / 0\n",
    "except ZeroDivisionError as e:\n",
    "    error_message = \"Error: Division by zero occurred.\"\n",
    "    print(error_message)"
   ]
  },
  {
   "cell_type": "markdown",
   "metadata": {},
   "source": [
    "# Filtering a df"
   ]
  },
  {
   "cell_type": "code",
   "execution_count": 30,
   "metadata": {},
   "outputs": [
    {
     "data": {
      "text/html": [
       "<div>\n",
       "<style scoped>\n",
       "    .dataframe tbody tr th:only-of-type {\n",
       "        vertical-align: middle;\n",
       "    }\n",
       "\n",
       "    .dataframe tbody tr th {\n",
       "        vertical-align: top;\n",
       "    }\n",
       "\n",
       "    .dataframe thead th {\n",
       "        text-align: right;\n",
       "    }\n",
       "</style>\n",
       "<table border=\"1\" class=\"dataframe\">\n",
       "  <thead>\n",
       "    <tr style=\"text-align: right;\">\n",
       "      <th></th>\n",
       "      <th>array1</th>\n",
       "      <th>array2</th>\n",
       "    </tr>\n",
       "  </thead>\n",
       "  <tbody>\n",
       "    <tr>\n",
       "      <th>0</th>\n",
       "      <td>0.686385</td>\n",
       "      <td>0.690999</td>\n",
       "    </tr>\n",
       "  </tbody>\n",
       "</table>\n",
       "</div>"
      ],
      "text/plain": [
       "     array1    array2\n",
       "0  0.686385  0.690999"
      ]
     },
     "execution_count": 30,
     "metadata": {},
     "output_type": "execute_result"
    }
   ],
   "source": [
    "pd_df[(pd_df['array1'] >= 0.5) & (pd_df['array1'] <= 1) & (pd_df['array2'] >= 0) & (pd_df['array2'] <= 1)]"
   ]
  },
  {
   "cell_type": "markdown",
   "metadata": {},
   "source": [
    "The provided code is written in Python and is using the pandas library. It appears to be filtering a pandas DataFrame called [`pd_df`](command:_github.copilot.openSymbolFromReferences?%5B%7B%22%24mid%22%3A1%2C%22fsPath%22%3A%22c%3A%5C%5CUsers%5C%5CANTRS%5C%5CDownloads%5C%5C00_DS%5C%5CGitHub%5C%5CML%5C%5CDay_3.ipynb%22%2C%22_sep%22%3A1%2C%22path%22%3A%22%2Fc%3A%2FUsers%2FANTRS%2FDownloads%2F00_DS%2FGitHub%2FML%2FDay_3.ipynb%22%2C%22scheme%22%3A%22vscode-notebook-cell%22%2C%22fragment%22%3A%22X10sZmlsZQ%3D%3D%22%7D%2C%7B%22line%22%3A0%2C%22character%22%3A0%7D%5D \"c:\\Users\\ANTRS\\Downloads\\00_DS\\GitHub\\ML\\Day_3.ipynb\") based on certain conditions.\n",
    "\n",
    "The code is using multiple conditions to filter the DataFrame. Let's break down each condition:\n",
    "\n",
    "1. `(pd_df['array1'] >= 0.5)`: This condition checks if the values in the 'array1' column of the DataFrame are greater than or equal to 0.5.\n",
    "\n",
    "2. `(pd_df['array1'] <= 1)`: This condition checks if the values in the 'array1' column of the DataFrame are less than or equal to 1.\n",
    "\n",
    "3. `(pd_df['array2'] >= 0)`: This condition checks if the values in the 'array2' column of the DataFrame are greater than or equal to 0.\n",
    "\n",
    "4. `(pd_df['array2'] <= 1)`: This condition checks if the values in the 'array2' column of the DataFrame are less than or equal to 1.\n",
    "\n",
    "The code combines these conditions using the logical AND operator (`&`). This means that all conditions must be true for a row to be included in the filtered DataFrame.\n",
    "\n",
    "By applying these conditions, the code filters the DataFrame to only include rows where the value in the 'array1' column is between 0.5 and 1, and the value in the 'array2' column is between 0 and 1.\n",
    "\n",
    "The resulting filtered DataFrame will contain only the rows that satisfy all the specified conditions.\n",
    "\n",
    "It's important to note that the code assumes that the DataFrame [`pd_df`] has columns named 'array1' and 'array2'. If these column names do not exist in the DataFrame, the code will raise an error. Additionally, the code assumes that the DataFrame has already been imported and is available in the current scope.\n",
    "\n",
    "If you have any further questions or need additional assistance, feel free to ask!"
   ]
  }
 ],
 "metadata": {
  "kernelspec": {
   "display_name": "Test",
   "language": "python",
   "name": "python3"
  },
  "language_info": {
   "codemirror_mode": {
    "name": "ipython",
    "version": 3
   },
   "file_extension": ".py",
   "mimetype": "text/x-python",
   "name": "python",
   "nbconvert_exporter": "python",
   "pygments_lexer": "ipython3",
   "version": "3.10.11"
  }
 },
 "nbformat": 4,
 "nbformat_minor": 2
}
