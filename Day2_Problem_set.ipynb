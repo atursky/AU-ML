{
  "cells": [
    {
      "cell_type": "markdown",
      "metadata": {
        "id": "xM4N2608TeVM"
      },
      "source": [
        "Question 1 : Create a string named str_var and assign the value 'ML is awesome' to the variable and print the variable"
      ]
    },
    {
      "cell_type": "code",
      "execution_count": 4,
      "metadata": {},
      "outputs": [
        {
          "name": "stdout",
          "output_type": "stream",
          "text": [
            "ML is awesome\n"
          ]
        }
      ],
      "source": [
        "str_var = 'ML is awesome'\n",
        "print(str_var)"
      ]
    },
    {
      "cell_type": "markdown",
      "metadata": {
        "id": "jloQAvhHTxWY"
      },
      "source": [
        "Question 2 : Print the second last element of the above created variable"
      ]
    },
    {
      "cell_type": "code",
      "execution_count": 3,
      "metadata": {},
      "outputs": [
        {
          "name": "stdout",
          "output_type": "stream",
          "text": [
            "m\n"
          ]
        }
      ],
      "source": [
        "print(str_var[-2])"
      ]
    },
    {
      "cell_type": "markdown",
      "metadata": {
        "id": "nYEFQDiTUavQ"
      },
      "source": [
        "Question 3 : Perform #Addition operations on strings mentioned below and print them with and without space\n",
        "a = \"tom\"\n",
        "b = \"haverford\"`"
      ]
    },
    {
      "cell_type": "code",
      "execution_count": 5,
      "metadata": {},
      "outputs": [
        {
          "name": "stdout",
          "output_type": "stream",
          "text": [
            "tom haverford\n",
            "tomhaverford\n"
          ]
        }
      ],
      "source": [
        "a = \"tom\"\n",
        "b = \"haverford\"\n",
        "\n",
        "# With space\n",
        "result_with_space = a + \" \" + b\n",
        "print(result_with_space)\n",
        "\n",
        "# Without space\n",
        "result_without_space = a + b\n",
        "print(result_without_space)"
      ]
    },
    {
      "cell_type": "markdown",
      "metadata": {
        "id": "hjBYdlaNxUVV"
      },
      "source": [
        "**Question 4**: Write code to ask the user to enter 3 numbers (a,b,c) and then these values are passed on to a function called **find_largest(a,b,c)** which does some comparison operations (using python comparison operators) between these three numbers and print the result"
      ]
    },
    {
      "cell_type": "code",
      "execution_count": 6,
      "metadata": {},
      "outputs": [
        {
          "name": "stdout",
          "output_type": "stream",
          "text": [
            "The largest number is: 4\n"
          ]
        }
      ],
      "source": [
        "def find_largest(a, b, c):\n",
        "    if a > b and a > c:\n",
        "        largest = a\n",
        "    elif b > a and b > c:\n",
        "        largest = b\n",
        "    else:\n",
        "        largest = c\n",
        "    print(\"The largest number is:\", largest)\n",
        "\n",
        "a = int(input(\"Enter the first number: \"))\n",
        "b = int(input(\"Enter the second number: \"))\n",
        "c = int(input(\"Enter the third number: \"))\n",
        "\n",
        "find_largest(a, b, c)"
      ]
    },
    {
      "cell_type": "markdown",
      "metadata": {
        "id": "ttn8qNcwFJB2"
      },
      "source": [
        "Question 5 : Create a class named car to store the information model,manufactures and year"
      ]
    },
    {
      "cell_type": "code",
      "execution_count": null,
      "metadata": {},
      "outputs": [],
      "source": [
        "# Class\n",
        "class Car:\n",
        "    def __init__(self, model, manufacturer, year):\n",
        "        self.model = model\n",
        "        self.manufacturer = manufacturer\n",
        "        self.year = year"
      ]
    },
    {
      "cell_type": "code",
      "execution_count": null,
      "metadata": {},
      "outputs": [],
      "source": [
        "# Pydantic\n",
        "\n",
        "from pydantic import BaseModel\n",
        "\n",
        "class Car(BaseModel):\n",
        "    model: str\n",
        "    manufacturer: str\n",
        "    year: int"
      ]
    },
    {
      "cell_type": "code",
      "execution_count": 7,
      "metadata": {},
      "outputs": [],
      "source": [
        "# DataClass\n",
        "\n",
        "from dataclasses import dataclass\n",
        "\n",
        "@dataclass\n",
        "class Car:\n",
        "    model: str\n",
        "    manufacturer: str\n",
        "    year: int"
      ]
    },
    {
      "cell_type": "markdown",
      "metadata": {
        "id": "uTLCHxWjFX13"
      },
      "source": [
        "Question 6 : Create an object of the class and print informations mentioned in the above question"
      ]
    },
    {
      "cell_type": "code",
      "execution_count": 9,
      "metadata": {},
      "outputs": [
        {
          "name": "stdout",
          "output_type": "stream",
          "text": [
            "Model: Tesla\n",
            "Manufacturer: Tesla Motors\n",
            "Year: 2022\n"
          ]
        }
      ],
      "source": [
        "# Create an object of the Car class\n",
        "car_obj = Car(\"Tesla\", \"Tesla Motors\", 2022)\n",
        "\n",
        "# Print the information\n",
        "print(f\"Model: {car_obj.model}\\nManufacturer: {car_obj.manufacturer}\\nYear: {car_obj.year}\")\n"
      ]
    },
    {
      "cell_type": "markdown",
      "metadata": {
        "id": "HUz42uzjVF6T"
      },
      "source": [
        "**Question 7**: Write a python class called \"Employee\" with four attributes - name, base_salary, bonus, travel_allowance, with a parameterized constructor to initialize these values and another function called print_total_salary which just adds up the base_salary with bonus and travel_allowance and prints it.\n",
        "\n",
        "After you define this class, create two or three objects of this class type, say emp1, emp2 and emp3 like this -\n",
        "\n",
        "```\n",
        "emp1 = Employee(\"Tom\",1000,300,100)\n",
        "emp2 = Employee(\"Dick\",2000,600,100)\n",
        "emp3 = Employee(\"Harry\",500,100,50)\n",
        "```\n",
        "\n",
        "And then print the total salaries by accessing the print_total_salary method -\n",
        "\n",
        "```\n",
        "emp1.print_total_salary()\n",
        "emp2.print_total_salary()\n",
        "emp3.print_total_salary()\n",
        "```\n",
        "\n",
        "\n"
      ]
    },
    {
      "cell_type": "code",
      "execution_count": 10,
      "metadata": {},
      "outputs": [],
      "source": [
        "class Employee:\n",
        "    def __init__(self, name, base_salary, bonus, travel_allowance):\n",
        "        self.name = name\n",
        "        self.base_salary = base_salary\n",
        "        self.bonus = bonus\n",
        "        self.travel_allowance = travel_allowance\n",
        "    \n",
        "    def print_total_salary(self):\n",
        "        total_salary = self.base_salary + self.bonus + self.travel_allowance\n",
        "        print(f\"The total salary for {self.name} is: {total_salary}\")\n",
        "\n",
        "emp1 = Employee(\"Tom\", 1000, 300, 100)\n",
        "emp2 = Employee(\"Dick\", 2000, 600, 100)\n",
        "emp3 = Employee(\"Harry\", 500, 100, 50)"
      ]
    },
    {
      "cell_type": "markdown",
      "metadata": {
        "id": "NEbflxkuC6-3"
      },
      "source": [
        "Question 8: Create a One-dimensional array of size 9 with a range of 15 random elements. Create a Two-dimensional array with 3 rows and 4 columns inside the range of 15 random elements. Create a Three-dimensional array of 3 arrays with 4 rows and 5 columns with a range of 15 random elements."
      ]
    },
    {
      "cell_type": "code",
      "execution_count": 11,
      "metadata": {},
      "outputs": [],
      "source": [
        "import numpy as np\n",
        "\n",
        "# One-dimensional array\n",
        "one_dim_array = np.random.randint(15, size=9)\n",
        "\n",
        "# Two-dimensional array\n",
        "two_dim_array = np.random.randint(15, size=(3, 4))\n",
        "\n",
        "# Three-dimensional array\n",
        "three_dim_array = np.random.randint(15, size=(3, 4, 5))"
      ]
    },
    {
      "cell_type": "markdown",
      "metadata": {
        "id": "ljIf4fEVETxm"
      },
      "source": [
        "Question 9 : Write a code to print the values stored in an integer list but use excemption handling in case the user tries to print a value from a position in the list that does not have a value"
      ]
    },
    {
      "cell_type": "code",
      "execution_count": 13,
      "metadata": {},
      "outputs": [
        {
          "name": "stdout",
          "output_type": "stream",
          "text": [
            "Invalid index. The list does not have a value at that position.\n"
          ]
        }
      ],
      "source": [
        "integer_list = [1, 2, 3, 4, 5]\n",
        "\n",
        "try:\n",
        "    index = int(input(\"Enter the index to print the value from the list: \"))\n",
        "    value = integer_list[index]\n",
        "    print(\"Value at index\", index, \"is:\", value)\n",
        "except IndexError:\n",
        "    print(\"Invalid index. The list does not have a value at that position.\")"
      ]
    }
  ],
  "metadata": {
    "colab": {
      "provenance": []
    },
    "kernelspec": {
      "display_name": "Python 3",
      "name": "python3"
    },
    "language_info": {
      "codemirror_mode": {
        "name": "ipython",
        "version": 3
      },
      "file_extension": ".py",
      "mimetype": "text/x-python",
      "name": "python",
      "nbconvert_exporter": "python",
      "pygments_lexer": "ipython3",
      "version": "3.10.11"
    }
  },
  "nbformat": 4,
  "nbformat_minor": 0
}
