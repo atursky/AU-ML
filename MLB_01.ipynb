{
 "cells": [
  {
   "cell_type": "code",
   "execution_count": 4,
   "metadata": {},
   "outputs": [
    {
     "name": "stdout",
     "output_type": "stream",
     "text": [
      "C:\\Users\\Administrator\\Downloads\\MLB\n"
     ]
    },
    {
     "name": "stderr",
     "output_type": "stream",
     "text": [
      "c:\\Users\\Administrator\\.pyenv\\pyenv-win\\versions\\3.12.1\\Lib\\site-packages\\IPython\\core\\magics\\osm.py:417: UserWarning: using dhist requires you to install the `pickleshare` library.\n",
      "  self.shell.db['dhist'] = compress_dhist(dhist)[-100:]\n"
     ]
    }
   ],
   "source": [
    "%cd \"C:\\Users\\Administrator\\Downloads\\MLB\""
   ]
  },
  {
   "cell_type": "code",
   "execution_count": 7,
   "metadata": {},
   "outputs": [
    {
     "name": "stdout",
     "output_type": "stream",
     "text": [
      "C:\\Users\\Administrator\\Downloads\\MLB\\turbine-02\\helihoist-1\\tom\\clean\n"
     ]
    },
    {
     "name": "stderr",
     "output_type": "stream",
     "text": [
      "c:\\Users\\Administrator\\.pyenv\\pyenv-win\\versions\\3.12.1\\Lib\\site-packages\\IPython\\core\\magics\\osm.py:417: UserWarning: using dhist requires you to install the `pickleshare` library.\n",
      "  self.shell.db['dhist'] = compress_dhist(dhist)[-100:]\n"
     ]
    }
   ],
   "source": [
    "%cd \"C:\\Users\\Administrator\\Downloads\\MLB\\turbine-02\\helihoist-1\\tom\\clean\""
   ]
  },
  {
   "cell_type": "code",
   "execution_count": 12,
   "metadata": {},
   "outputs": [],
   "source": [
    "import polars as pl\n",
    "import glob\n",
    "\n",
    "# Define the directory containing the CSV files\n",
    "directory = r\"C:\\Users\\Administrator\\Downloads\\MLB\\turbine-02\\helihoist-1\\tom\\clean\"\n",
    "\n",
    "# Use glob to get all CSV files in the directory\n",
    "csv_files = glob.glob(f\"{directory}/*.csv\")\n",
    "\n",
    "# Load all CSV files into a list of DataFrames\n",
    "data_frames = [pl.read_csv(file) for file in csv_files]\n",
    "\n",
    "# Concatenate all DataFrames into a single DataFrame\n",
    "combined_data = pl.concat(data_frames)"
   ]
  },
  {
   "cell_type": "code",
   "execution_count": 13,
   "metadata": {},
   "outputs": [
    {
     "data": {
      "text/html": [
       "<div><style>\n",
       ".dataframe > thead > tr,\n",
       ".dataframe > tbody > tr {\n",
       "  text-align: right;\n",
       "  white-space: pre-wrap;\n",
       "}\n",
       "</style>\n",
       "<small>shape: (17_416_163, 17)</small><table border=\"1\" class=\"dataframe\"><thead><tr><th># &#x27;epoch&#x27;</th><th> &#x27;runtime&#x27;</th><th> &#x27;latitude&#x27;</th><th> &#x27;longitude&#x27;</th><th> &#x27;elevation&#x27;</th><th> &#x27;rot_x&#x27;</th><th> &#x27;rot_y&#x27;</th><th> &#x27;rot_z&#x27;</th><th> &#x27;acc_x&#x27;</th><th> &#x27;acc_y&#x27;</th><th> &#x27;acc_z&#x27;</th><th> &#x27;mag_x&#x27;</th><th> &#x27;mag_y&#x27;</th><th> &#x27;mag_z&#x27;</th><th> &#x27;roll&#x27;</th><th> &#x27;pitch&#x27;</th><th> &#x27;yaw&#x27;</th></tr><tr><td>str</td><td>str</td><td>str</td><td>str</td><td>str</td><td>str</td><td>str</td><td>str</td><td>str</td><td>str</td><td>str</td><td>str</td><td>str</td><td>str</td><td>str</td><td>str</td><td>str</td></tr></thead><tbody><tr><td>&quot;1566073328.10500 2461.00000 -5…</td><td>null</td><td>null</td><td>null</td><td>null</td><td>null</td><td>null</td><td>null</td><td>null</td><td>null</td><td>null</td><td>null</td><td>null</td><td>null</td><td>null</td><td>null</td><td>null</td></tr><tr><td>&quot;1566073328.13600 2492.00000 -5…</td><td>null</td><td>null</td><td>null</td><td>null</td><td>null</td><td>null</td><td>null</td><td>null</td><td>null</td><td>null</td><td>null</td><td>null</td><td>null</td><td>null</td><td>null</td><td>null</td></tr><tr><td>&quot;1566073328.17000 2526.00000 -5…</td><td>null</td><td>null</td><td>null</td><td>null</td><td>null</td><td>null</td><td>null</td><td>null</td><td>null</td><td>null</td><td>null</td><td>null</td><td>null</td><td>null</td><td>null</td><td>null</td></tr><tr><td>&quot;1566073328.20200 2558.00000 -5…</td><td>null</td><td>null</td><td>null</td><td>null</td><td>null</td><td>null</td><td>null</td><td>null</td><td>null</td><td>null</td><td>null</td><td>null</td><td>null</td><td>null</td><td>null</td><td>null</td></tr><tr><td>&quot;1566073328.23300 2589.00000 -5…</td><td>null</td><td>null</td><td>null</td><td>null</td><td>null</td><td>null</td><td>null</td><td>null</td><td>null</td><td>null</td><td>null</td><td>null</td><td>null</td><td>null</td><td>null</td><td>null</td></tr><tr><td>&hellip;</td><td>&hellip;</td><td>&hellip;</td><td>&hellip;</td><td>&hellip;</td><td>&hellip;</td><td>&hellip;</td><td>&hellip;</td><td>&hellip;</td><td>&hellip;</td><td>&hellip;</td><td>&hellip;</td><td>&hellip;</td><td>&hellip;</td><td>&hellip;</td><td>&hellip;</td><td>&hellip;</td></tr><tr><td>&quot;1566625262.53900 19411251.0000…</td><td>null</td><td>null</td><td>null</td><td>null</td><td>null</td><td>null</td><td>null</td><td>null</td><td>null</td><td>null</td><td>null</td><td>null</td><td>null</td><td>null</td><td>null</td><td>null</td></tr><tr><td>&quot;1566625262.57200 19411283.0000…</td><td>null</td><td>null</td><td>null</td><td>null</td><td>null</td><td>null</td><td>null</td><td>null</td><td>null</td><td>null</td><td>null</td><td>null</td><td>null</td><td>null</td><td>null</td><td>null</td></tr><tr><td>&quot;1566625262.60200 19411313.0000…</td><td>null</td><td>null</td><td>null</td><td>null</td><td>null</td><td>null</td><td>null</td><td>null</td><td>null</td><td>null</td><td>null</td><td>null</td><td>null</td><td>null</td><td>null</td><td>null</td></tr><tr><td>&quot;1566625262.63300 19411344.0000…</td><td>null</td><td>null</td><td>null</td><td>null</td><td>null</td><td>null</td><td>null</td><td>null</td><td>null</td><td>null</td><td>null</td><td>null</td><td>null</td><td>null</td><td>null</td><td>null</td></tr><tr><td>&quot;1566625262.66400 19411375.0000…</td><td>null</td><td>null</td><td>null</td><td>null</td><td>null</td><td>null</td><td>null</td><td>null</td><td>null</td><td>null</td><td>null</td><td>null</td><td>null</td><td>null</td><td>null</td><td>null</td></tr></tbody></table></div>"
      ],
      "text/plain": [
       "shape: (17_416_163, 17)\n",
       "┌─────────────┬────────────┬─────────────┬────────────┬───┬──────────┬─────────┬──────────┬────────┐\n",
       "│ # 'epoch'   ┆  'runtime' ┆  'latitude' ┆ 'longitude ┆ … ┆  'mag_z' ┆  'roll' ┆  'pitch' ┆  'yaw' │\n",
       "│ ---         ┆ ---        ┆ ---         ┆ '          ┆   ┆ ---      ┆ ---     ┆ ---      ┆ ---    │\n",
       "│ str         ┆ str        ┆ str         ┆ ---        ┆   ┆ str      ┆ str     ┆ str      ┆ str    │\n",
       "│             ┆            ┆             ┆ str        ┆   ┆          ┆         ┆          ┆        │\n",
       "╞═════════════╪════════════╪═════════════╪════════════╪═══╪══════════╪═════════╪══════════╪════════╡\n",
       "│ 1566073328. ┆ null       ┆ null        ┆ null       ┆ … ┆ null     ┆ null    ┆ null     ┆ null   │\n",
       "│ 10500       ┆            ┆             ┆            ┆   ┆          ┆         ┆          ┆        │\n",
       "│ 2461.00000  ┆            ┆             ┆            ┆   ┆          ┆         ┆          ┆        │\n",
       "│ -5…         ┆            ┆             ┆            ┆   ┆          ┆         ┆          ┆        │\n",
       "│ 1566073328. ┆ null       ┆ null        ┆ null       ┆ … ┆ null     ┆ null    ┆ null     ┆ null   │\n",
       "│ 13600       ┆            ┆             ┆            ┆   ┆          ┆         ┆          ┆        │\n",
       "│ 2492.00000  ┆            ┆             ┆            ┆   ┆          ┆         ┆          ┆        │\n",
       "│ -5…         ┆            ┆             ┆            ┆   ┆          ┆         ┆          ┆        │\n",
       "│ 1566073328. ┆ null       ┆ null        ┆ null       ┆ … ┆ null     ┆ null    ┆ null     ┆ null   │\n",
       "│ 17000       ┆            ┆             ┆            ┆   ┆          ┆         ┆          ┆        │\n",
       "│ 2526.00000  ┆            ┆             ┆            ┆   ┆          ┆         ┆          ┆        │\n",
       "│ -5…         ┆            ┆             ┆            ┆   ┆          ┆         ┆          ┆        │\n",
       "│ 1566073328. ┆ null       ┆ null        ┆ null       ┆ … ┆ null     ┆ null    ┆ null     ┆ null   │\n",
       "│ 20200       ┆            ┆             ┆            ┆   ┆          ┆         ┆          ┆        │\n",
       "│ 2558.00000  ┆            ┆             ┆            ┆   ┆          ┆         ┆          ┆        │\n",
       "│ -5…         ┆            ┆             ┆            ┆   ┆          ┆         ┆          ┆        │\n",
       "│ 1566073328. ┆ null       ┆ null        ┆ null       ┆ … ┆ null     ┆ null    ┆ null     ┆ null   │\n",
       "│ 23300       ┆            ┆             ┆            ┆   ┆          ┆         ┆          ┆        │\n",
       "│ 2589.00000  ┆            ┆             ┆            ┆   ┆          ┆         ┆          ┆        │\n",
       "│ -5…         ┆            ┆             ┆            ┆   ┆          ┆         ┆          ┆        │\n",
       "│ …           ┆ …          ┆ …           ┆ …          ┆ … ┆ …        ┆ …       ┆ …        ┆ …      │\n",
       "│ 1566625262. ┆ null       ┆ null        ┆ null       ┆ … ┆ null     ┆ null    ┆ null     ┆ null   │\n",
       "│ 53900 19411 ┆            ┆             ┆            ┆   ┆          ┆         ┆          ┆        │\n",
       "│ 251.0000…   ┆            ┆             ┆            ┆   ┆          ┆         ┆          ┆        │\n",
       "│ 1566625262. ┆ null       ┆ null        ┆ null       ┆ … ┆ null     ┆ null    ┆ null     ┆ null   │\n",
       "│ 57200 19411 ┆            ┆             ┆            ┆   ┆          ┆         ┆          ┆        │\n",
       "│ 283.0000…   ┆            ┆             ┆            ┆   ┆          ┆         ┆          ┆        │\n",
       "│ 1566625262. ┆ null       ┆ null        ┆ null       ┆ … ┆ null     ┆ null    ┆ null     ┆ null   │\n",
       "│ 60200 19411 ┆            ┆             ┆            ┆   ┆          ┆         ┆          ┆        │\n",
       "│ 313.0000…   ┆            ┆             ┆            ┆   ┆          ┆         ┆          ┆        │\n",
       "│ 1566625262. ┆ null       ┆ null        ┆ null       ┆ … ┆ null     ┆ null    ┆ null     ┆ null   │\n",
       "│ 63300 19411 ┆            ┆             ┆            ┆   ┆          ┆         ┆          ┆        │\n",
       "│ 344.0000…   ┆            ┆             ┆            ┆   ┆          ┆         ┆          ┆        │\n",
       "│ 1566625262. ┆ null       ┆ null        ┆ null       ┆ … ┆ null     ┆ null    ┆ null     ┆ null   │\n",
       "│ 66400 19411 ┆            ┆             ┆            ┆   ┆          ┆         ┆          ┆        │\n",
       "│ 375.0000…   ┆            ┆             ┆            ┆   ┆          ┆         ┆          ┆        │\n",
       "└─────────────┴────────────┴─────────────┴────────────┴───┴──────────┴─────────┴──────────┴────────┘"
      ]
     },
     "execution_count": 13,
     "metadata": {},
     "output_type": "execute_result"
    }
   ],
   "source": [
    "combined_data"
   ]
  }
 ],
 "metadata": {
  "kernelspec": {
   "display_name": "Python 3",
   "language": "python",
   "name": "python3"
  },
  "language_info": {
   "codemirror_mode": {
    "name": "ipython",
    "version": 3
   },
   "file_extension": ".py",
   "mimetype": "text/x-python",
   "name": "python",
   "nbconvert_exporter": "python",
   "pygments_lexer": "ipython3",
   "version": "3.12.1"
  }
 },
 "nbformat": 4,
 "nbformat_minor": 2
}
